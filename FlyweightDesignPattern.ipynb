{
 "cells": [
  {
   "cell_type": "markdown",
   "metadata": {},
   "source": [
    "# Flyweight Design Pattern"
   ]
  },
  {
   "cell_type": "markdown",
   "metadata": {},
   "source": [
    "> Flyweight is a structural design pattern that lets you fit more objects into the available amount of RAM by sharing common parts of object state among multiple objects, instead of keeping it in each object."
   ]
  },
  {
   "cell_type": "markdown",
   "metadata": {},
   "source": [
    "![img](https://refactoring.guru/images/patterns/diagrams/flyweight/structure.png)"
   ]
  },
  {
   "cell_type": "markdown",
   "metadata": {},
   "source": [
    "## Pros\n",
    " - Saves RAM, thus allowing a program to support much more objects.\n",
    " - Wastes CPU time on searching or calculating the context.\n",
    "\n",
    "## Cons\n",
    " - Increases overall code complexity by creating multiple additional classes.\n"
   ]
  },
  {
   "cell_type": "code",
   "execution_count": 5,
   "metadata": {},
   "outputs": [],
   "source": [
    "class Spam(object):\n",
    "    def __init__(self, a, b):\n",
    "        self.a = a\n",
    "        self.b = b\n",
    "\n",
    "class SpamFactory(object):\n",
    "    def  __init__(self):\n",
    "        self.__instances = dict()\n",
    "\n",
    "    def get_instance(self, a, b):\n",
    "        if (a, b) not in self.__instances:\n",
    "            self.__instances[(a, b)] = Spam(a, b)\n",
    "        return self.__instances[(a, b)]\n",
    "\n",
    "class Egg(object):\n",
    "    def __init__(self, x, y):\n",
    "        self.x = x\n",
    "        self.y = y\n",
    "\n",
    "class EggFactory(object):\n",
    "    def __init__(self):\n",
    "        self.__instances = dict()\n",
    "\n",
    "    def get_instance(self, x, y):\n",
    "        if (x, y) not in self.__instances:\n",
    "            self.__instances[(x, y)] = Egg(x, y)\n",
    "        return self.__instances[(x, y)]\n",
    "\n",
    "\n",
    "spamFactory = SpamFactory()\n",
    "eggFactory = EggFactory()\n",
    "\n",
    "assert spamFactory.get_instance(1, 2) is spamFactory.get_instance(1, 2)\n",
    "assert eggFactory.get_instance('a', 'b') is eggFactory.get_instance('a', 'b')\n",
    "assert spamFactory.get_instance(1, 2) is not eggFactory.get_instance(1, 2)"
   ]
  },
  {
   "cell_type": "code",
   "execution_count": null,
   "metadata": {},
   "outputs": [],
   "source": []
  }
 ],
 "metadata": {
  "kernelspec": {
   "display_name": "Python 3",
   "language": "python",
   "name": "python3"
  },
  "language_info": {
   "codemirror_mode": {
    "name": "ipython",
    "version": 3
   },
   "file_extension": ".py",
   "mimetype": "text/x-python",
   "name": "python",
   "nbconvert_exporter": "python",
   "pygments_lexer": "ipython3",
   "version": "3.6.5"
  }
 },
 "nbformat": 4,
 "nbformat_minor": 2
}
