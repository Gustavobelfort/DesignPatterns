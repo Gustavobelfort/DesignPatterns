{
 "cells": [
  {
   "cell_type": "markdown",
   "metadata": {
    "slideshow": {
     "slide_type": "slide"
    }
   },
   "source": [
    "# Factory Design Pattern"
   ]
  },
  {
   "cell_type": "markdown",
   "metadata": {},
   "source": [
    "> Factory Method is a creational design pattern that provides an interface for creating objects in superclass, but allow subclasses to alter the type of objects that will be created."
   ]
  },
  {
   "cell_type": "markdown",
   "metadata": {
    "slideshow": {
     "slide_type": "slide"
    }
   },
   "source": [
    "![img](https://refactoring.guru/images/patterns/diagrams/factory-method/structure.png)"
   ]
  },
  {
   "cell_type": "markdown",
   "metadata": {},
   "source": [
    "## Pros\n",
    " - Avoids tight coupling between concrete products and code that uses them.\n",
    " - Follows the Open/Closed Principle.\n",
    " - Simplifies code due to moving all creational code to one place.\n",
    " - Simplifies adding new products to the program.\n",
    "\n",
    "## Cons\n",
    " - Requires extra subclasses."
   ]
  },
  {
   "cell_type": "code",
   "execution_count": null,
   "metadata": {},
   "outputs": [],
   "source": [
    "class Button(object):\n",
    "    html = \"\"\n",
    "    def get_html(self):\n",
    "        return self.html\n",
    "\n",
    "class ButtonFactory():\n",
    "    def create_button(self, typ):\n",
    "        targetclass = typ.capitalize()\n",
    "        return globals()[targetclass]()\n",
    "    \n",
    "class Image(Button):\n",
    "    html = \"<img></img>\"\n",
    "\n",
    "class Input(Button):\n",
    "    html = \"<input></input>\"\n",
    "\n",
    "class Flash(Button):\n",
    "    html = \"<obj></obj>\"\n",
    "\n",
    "button_obj = ButtonFactory()\n",
    "button = ['image', 'input', 'flash']\n",
    "for b in button:\n",
    "    print(button_obj.create_button(b).get_html())"
   ]
  }
 ],
 "metadata": {
  "kernelspec": {
   "display_name": "Python 3",
   "language": "python",
   "name": "python3"
  },
  "language_info": {
   "codemirror_mode": {
    "name": "ipython",
    "version": 3
   },
   "file_extension": ".py",
   "mimetype": "text/x-python",
   "name": "python",
   "nbconvert_exporter": "python",
   "pygments_lexer": "ipython3",
   "version": "3.6.5"
  }
 },
 "nbformat": 4,
 "nbformat_minor": 2
}
