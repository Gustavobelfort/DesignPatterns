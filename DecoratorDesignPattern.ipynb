{
 "cells": [
  {
   "cell_type": "markdown",
   "metadata": {},
   "source": [
    "# Decorator Design Pattern"
   ]
  },
  {
   "cell_type": "markdown",
   "metadata": {},
   "source": [
    "> Decorator is a structural design pattern that lets you attach new behaviors to objects by placing them inside wrapper objects that contain these behaviors.\n",
    "\n"
   ]
  },
  {
   "cell_type": "markdown",
   "metadata": {},
   "source": [
    "![img](https://refactoring.guru/images/patterns/diagrams/decorator/structure.png)"
   ]
  },
  {
   "cell_type": "markdown",
   "metadata": {},
   "source": [
    "# Pros\n",
    " - Much more flexible than class inheritance.\n",
    " - Allows adding and removing behaviors at runtime.\n",
    " - Allows combining several additional behaviors by using multiple wrappers.\n",
    " - Allows composing complex objects from simple ones instead of having monolithic classes that implement every variant of behavior.\n",
    "\n",
    "# Cons\n",
    " - It is hard to configure a multi-wrapped object.\n",
    " - Lots of small classes."
   ]
  },
  {
   "cell_type": "code",
   "execution_count": 4,
   "metadata": {},
   "outputs": [
    {
     "name": "stdout",
     "output_type": "stream",
     "text": [
      "Basic Car.\n",
      "Adding features of Sports Car.\n",
      "-----\n",
      "Basic Car.\n",
      "Adding features of Luxury Car.\n",
      "Adding features of Sports Car.\n"
     ]
    }
   ],
   "source": [
    "class Car(object):\n",
    "    def assemble(self):\n",
    "        pass\n",
    "\n",
    "\n",
    "class BasicCar(Car):\n",
    "    def assemble(self):\n",
    "        print(\"Basic Car.\")\n",
    "\n",
    "\n",
    "class CarDecorator(Car):\n",
    "    def __init__(self, car):\n",
    "        self.car = car\n",
    "\n",
    "    def assemble(self):\n",
    "        self.car.assemble()\n",
    "\n",
    "\n",
    "class SportsCar(CarDecorator):\n",
    "    def __init__(self, car):\n",
    "        super(SportsCar, self).__init__(car)\n",
    "\n",
    "    def assemble(self):\n",
    "        super(SportsCar, self).assemble()\n",
    "        print(\"Adding features of Sports Car.\")\n",
    "\n",
    "\n",
    "class LuxuryCar(CarDecorator):\n",
    "    def __init__(self, car):\n",
    "        super(LuxuryCar, self).__init__(car)\n",
    "\n",
    "    def assemble(self):\n",
    "        super(LuxuryCar, self).assemble()\n",
    "        print(\"Adding features of Luxury Car.\")\n",
    "\n",
    "\n",
    "if __name__ == '__main__':\n",
    "    sports_car = SportsCar(BasicCar())\n",
    "    sports_car.assemble()\n",
    "    print(\"-----\")\n",
    "\n",
    "    sports_luxury_car = SportsCar(LuxuryCar(BasicCar()))\n",
    "    sports_luxury_car.assemble()"
   ]
  }
 ],
 "metadata": {
  "kernelspec": {
   "display_name": "Python 3",
   "language": "python",
   "name": "python3"
  },
  "language_info": {
   "codemirror_mode": {
    "name": "ipython",
    "version": 3
   },
   "file_extension": ".py",
   "mimetype": "text/x-python",
   "name": "python",
   "nbconvert_exporter": "python",
   "pygments_lexer": "ipython3",
   "version": "3.6.5"
  }
 },
 "nbformat": 4,
 "nbformat_minor": 2
}
