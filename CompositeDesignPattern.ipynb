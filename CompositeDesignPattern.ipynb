{
 "cells": [
  {
   "cell_type": "markdown",
   "metadata": {},
   "source": [
    "# Composite Design Pattern"
   ]
  },
  {
   "cell_type": "markdown",
   "metadata": {},
   "source": [
    "> Composite is a structural design pattern that lets you compose objects into tree structures and allow clients to work with these structures as if they were individual objects."
   ]
  },
  {
   "cell_type": "markdown",
   "metadata": {},
   "source": [
    "![img](https://refactoring.guru/images/patterns/diagrams/composite/structure.png)"
   ]
  },
  {
   "cell_type": "markdown",
   "metadata": {},
   "source": [
    "## Pros\n",
    " - Simplifies the client code that has to interact with a complex tree structure.\n",
    " - Makes easier adding new component types.\n",
    "\n",
    "## Cons\n",
    " - Creates a too general class design.\n"
   ]
  },
  {
   "cell_type": "code",
   "execution_count": null,
   "metadata": {},
   "outputs": [],
   "source": [
    "class Triangle():\n",
    "    def draw(self, color):\n",
    "        print(\"Drawing Triangle with color \" + color)\n",
    "\n",
    "class Circle():\n",
    "    def draw(self, color):\n",
    "        print(\"Drawing Circle with color \" + color)\n",
    "\n",
    "class Drawing():\n",
    "    def __init__(self):\n",
    "        self.shapes = []\n",
    "\n",
    "    def draw(self, color):\n",
    "        for sh in self.shapes:\n",
    "            sh.draw(color)\n",
    "\n",
    "    def add(self, sh):\n",
    "        self.shapes.append(sh)\n",
    "\n",
    "    def remove(self, sh):\n",
    "        self.shapes.remove(sh)\n",
    "\n",
    "    def clear(self):\n",
    "        print(\"Clearing all the shapes from drawing\")\n",
    "        self.shapes = []\n",
    "\n",
    "if __name__ == '__main__':\n",
    "    tri1 = Triangle()\n",
    "    tri2 = Triangle()\n",
    "    cir  = Circle()\n",
    "\n",
    "    drawing = Drawing()\n",
    "    drawing.add(tri1)\n",
    "    drawing.add(tri2)\n",
    "    drawing.add(cir)\n",
    "\n",
    "    drawing.draw(\"Red\")\n",
    "\n",
    "    drawing.clear()\n",
    "\n",
    "    drawing.add(tri1)\n",
    "    drawing.add(cir)\n",
    "    drawing.draw(\"Green\")"
   ]
  }
 ],
 "metadata": {
  "kernelspec": {
   "display_name": "Python 3",
   "language": "python",
   "name": "python3"
  },
  "language_info": {
   "codemirror_mode": {
    "name": "ipython",
    "version": 3
   },
   "file_extension": ".py",
   "mimetype": "text/x-python",
   "name": "python",
   "nbconvert_exporter": "python",
   "pygments_lexer": "ipython3",
   "version": "3.6.5"
  }
 },
 "nbformat": 4,
 "nbformat_minor": 2
}
